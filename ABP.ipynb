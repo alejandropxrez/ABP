{
  "nbformat": 4,
  "nbformat_minor": 0,
  "metadata": {
    "colab": {
      "provenance": []
    },
    "kernelspec": {
      "name": "python3",
      "display_name": "Python 3"
    },
    "language_info": {
      "name": "python"
    }
  },
  "cells": [
    {
      "cell_type": "markdown",
      "source": [
        "TITULO DE NUEVA SECCIÓN DE ALGO QUE TENEMOS QUE HACER PERO NO SE QUE TENEMOS QUE HACER TODAVIA\n",
        "\n",
        "---\n",
        "\n",
        "\n"
      ],
      "metadata": {
        "id": "PCtVXukmJZT-"
      }
    }
  ]
}